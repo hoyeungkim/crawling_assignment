{
 "cells": [
  {
   "cell_type": "code",
   "execution_count": null,
   "metadata": {},
   "outputs": [],
   "source": []
  },
  {
   "cell_type": "code",
   "execution_count": 18,
   "metadata": {},
   "outputs": [
    {
     "name": "stdout",
     "output_type": "stream",
     "text": [
      "         항목    2021/12    2022/12    2023/12    2024/06       전년동기  전년동기(%)\n",
      "0       매출액  2796048.0  3022314.0  2589355.0  2250826.0  1911556.0     17.7\n",
      "1     당기순이익   399075.0   556541.0   154871.0   266970.0    91423.0    192.0\n",
      "2  영업활동현금흐름   651054.0   621813.0   441374.0   509604.0        NaN      NaN\n",
      "3  투자활동현금흐름  -330478.0  -316028.0  -169228.0  -735138.0        NaN      NaN\n",
      "4  재무활동현금흐름  -239910.0  -193900.0   -85931.0   -50162.0        NaN      NaN\n",
      "5    잉여현금흐름    80666.0   111885.0   186215.0  -275696.0        NaN      NaN\n"
     ]
    }
   ],
   "source": [
    "import pandas as pd\n",
    "import re\n",
    "import trafilatura\n",
    "\n",
    "# URL 설정\n",
    "url = \"https://comp.fnguide.com/SVO2/ASP/SVD_Finance.asp?pGB=1&gicode=A005930&cID=&MenuYn=Y&ReportGB=&NewMenuID=103&stkGb=701\"\n",
    "\n",
    "# Trafilatura로 HTML 본문 추출\n",
    "downloaded = trafilatura.fetch_url(url)\n",
    "\n",
    "if downloaded:\n",
    "    text = trafilatura.extract(downloaded, include_tables=True)\n",
    "else:\n",
    "    print(\"URL에서 데이터를 가져올 수 없습니다.\")\n",
    "    text = \"\"\n",
    "\n",
    "# 매출액, 당기순이익, 영업활동으로인한현금흐름, 투자활동으로인한현금흐름, 재무활동으로인한현금흐름 데이터 추출\n",
    "pattern = r\"(매출액|당기순이익|영업활동으로인한현금흐름|투자활동으로인한현금흐름|재무활동으로인한현금흐름)\\s*\\|\\s*(.*?)\\n\"\n",
    "matches = re.findall(pattern, text)\n",
    "\n",
    "# 데이터 정리\n",
    "data = []\n",
    "columns = [\"항목\", \"2021/12\", \"2022/12\", \"2023/12\", \"2024/06\", \"전년동기\", \"전년동기(%)\"]\n",
    "\n",
    "# 항목 이름 변경: 영업활동으로인한현금흐름 -> 영업활동현금흐름, 투자활동으로인한현금흐름 -> 투자활동현금흐름, 재무활동으로인한현금흐름 -> 재무활동현금흐름\n",
    "matches = [(항목명.replace(\"영업활동으로인한현금흐름\", \"영업활동현금흐름\")\n",
    "            .replace(\"투자활동으로인한현금흐름\", \"투자활동현금흐름\")\n",
    "            .replace(\"재무활동으로인한현금흐름\", \"재무활동현금흐름\"), 값) \n",
    "           for 항목명, 값 in matches]\n",
    "\n",
    "# 중복 항목 처리\n",
    "처리된_항목 = set()  # 이미 처리된 항목 저장\n",
    "\n",
    "for match in matches:\n",
    "    항목명 = match[0]\n",
    "    \n",
    "    # 이미 처리된 항목은 건너뜀\n",
    "    if 항목명 in 처리된_항목:\n",
    "        continue\n",
    "\n",
    "    # 항목 처리\n",
    "    처리된_항목.add(항목명)  # 처리 완료된 항목 추가\n",
    "    row = [항목명] + [x.strip() for x in match[1].split(\"|\")]\n",
    "    \n",
    "    # 열 수 맞추기: 데이터가 부족하면 NaN으로 채움\n",
    "    if len(row) < len(columns):\n",
    "        row += [None] * (len(columns) - len(row))\n",
    "    # 데이터 초과 시, 필요한 만큼만 사용\n",
    "    elif len(row) > len(columns):\n",
    "        row = row[:len(columns)]\n",
    "    \n",
    "    data.append(row)\n",
    "\n",
    "# pandas DataFrame 생성\n",
    "df = pd.DataFrame(data, columns=columns)\n",
    "\n",
    "# 숫자로 변환할 수 있는 항목들만 추출 (쉼표 제거 후)\n",
    "def clean_and_convert(value):\n",
    "    if value is None:\n",
    "        return None\n",
    "    try:\n",
    "        return float(value.replace(\",\", \"\"))\n",
    "    except ValueError:\n",
    "        return None\n",
    "\n",
    "# 숫자 데이터로 변환\n",
    "for col in df.columns[1:]:\n",
    "    df[col] = df[col].apply(clean_and_convert)\n",
    "\n",
    "# 영업활동, 투자활동, 재무활동의 현금흐름 합을 계산하여 새로운 \"잉여현금흐름\" 행 추가\n",
    "영업활동_col = \"영업활동현금흐름\"\n",
    "투자활동_col = \"투자활동현금흐름\"\n",
    "재무활동_col = \"재무활동현금흐름\"\n",
    "\n",
    "# \"영업활동현금흐름\", \"투자활동현금흐름\", \"재무활동현금흐름\"이 존재할 때만 처리\n",
    "if 영업활동_col in df[\"항목\"].values and 투자활동_col in df[\"항목\"].values and 재무활동_col in df[\"항목\"].values:\n",
    "    영업활동 = df[df[\"항목\"] == 영업활동_col].iloc[0, 1:]\n",
    "    투자활동 = df[df[\"항목\"] == 투자활동_col].iloc[0, 1:]\n",
    "    재무활동 = df[df[\"항목\"] == 재무활동_col].iloc[0, 1:]\n",
    "    \n",
    "    # 잉여현금흐름 계산 (영업활동 + 투자활동 + 재무활동)\n",
    "    잉여현금흐름 = 영업활동 + 투자활동 + 재무활동\n",
    "\n",
    "    # 잉여현금흐름을 새로운 행으로 추가\n",
    "    new_row = [\"잉여현금흐름\"] + 잉여현금흐름.tolist()\n",
    "    df.loc[len(df)] = new_row\n",
    "\n",
    "# 결과 출력\n",
    "print(df)\n"
   ]
  },
  {
   "cell_type": "code",
   "execution_count": 20,
   "metadata": {},
   "outputs": [
    {
     "data": {
      "text/html": [
       "<div>\n",
       "<style scoped>\n",
       "    .dataframe tbody tr th:only-of-type {\n",
       "        vertical-align: middle;\n",
       "    }\n",
       "\n",
       "    .dataframe tbody tr th {\n",
       "        vertical-align: top;\n",
       "    }\n",
       "\n",
       "    .dataframe thead th {\n",
       "        text-align: right;\n",
       "    }\n",
       "</style>\n",
       "<table border=\"1\" class=\"dataframe\">\n",
       "  <thead>\n",
       "    <tr style=\"text-align: right;\">\n",
       "      <th></th>\n",
       "      <th>IFRS(연결)</th>\n",
       "      <th>2020/12</th>\n",
       "      <th>2021/12</th>\n",
       "      <th>2022/12</th>\n",
       "      <th>2023/12</th>\n",
       "      <th>2024/09</th>\n",
       "    </tr>\n",
       "  </thead>\n",
       "  <tbody>\n",
       "    <tr>\n",
       "      <th>0</th>\n",
       "      <td>부채비율</td>\n",
       "      <td>37.1</td>\n",
       "      <td>39.9</td>\n",
       "      <td>26.4</td>\n",
       "      <td>25.4</td>\n",
       "      <td>27.2</td>\n",
       "    </tr>\n",
       "    <tr>\n",
       "      <th>1</th>\n",
       "      <td>유보율</td>\n",
       "      <td>29,723.5</td>\n",
       "      <td>32,906.5</td>\n",
       "      <td>38,360.3</td>\n",
       "      <td>39,256.9</td>\n",
       "      <td>41,810.5</td>\n",
       "    </tr>\n",
       "    <tr>\n",
       "      <th>2</th>\n",
       "      <td>ROE</td>\n",
       "      <td>10.0</td>\n",
       "      <td>13.9</td>\n",
       "      <td>17.1</td>\n",
       "      <td>4.1</td>\n",
       "      <td>9.5</td>\n",
       "    </tr>\n",
       "    <tr>\n",
       "      <th>3</th>\n",
       "      <td>총자산회전율</td>\n",
       "      <td>0.7</td>\n",
       "      <td>0.7</td>\n",
       "      <td>0.7</td>\n",
       "      <td>0.6</td>\n",
       "      <td>0.6</td>\n",
       "    </tr>\n",
       "  </tbody>\n",
       "</table>\n",
       "</div>"
      ],
      "text/plain": [
       "  IFRS(연결)   2020/12   2021/12   2022/12   2023/12   2024/09\n",
       "0     부채비율      37.1      39.9      26.4      25.4      27.2\n",
       "1      유보율  29,723.5  32,906.5  38,360.3  39,256.9  41,810.5\n",
       "2      ROE      10.0      13.9      17.1       4.1       9.5\n",
       "3   총자산회전율       0.7       0.7       0.7       0.6       0.6"
      ]
     },
     "execution_count": 20,
     "metadata": {},
     "output_type": "execute_result"
    }
   ],
   "source": [
    "import requests\n",
    "from bs4 import BeautifulSoup\n",
    "import pandas as pd\n",
    "\n",
    "# URL 설정\n",
    "url = \"https://comp.fnguide.com/SVO2/ASP/SVD_FinanceRatio.asp?pGB=1&gicode=A005930&cID=&MenuYn=Y&ReportGB=&NewMenuID=104&stkGb=701\"\n",
    "\n",
    "# 웹 페이지 요청\n",
    "headers = {\n",
    "    \"User-Agent\": \"Mozilla/5.0 (Windows NT 10.0; Win64; x64) AppleWebKit/537.36 (KHTML, like Gecko) Chrome/86.0.4240.183 Safari/537.36\"\n",
    "}\n",
    "response = requests.get(url, headers=headers)\n",
    "\n",
    "# 요청 성공 여부 확인\n",
    "if response.status_code != 200:\n",
    "    print(f\"페이지를 가져오지 못했습니다. 상태 코드: {response.status_code}\")\n",
    "    exit()\n",
    "\n",
    "# HTML 파싱\n",
    "soup = BeautifulSoup(response.content, 'html.parser')\n",
    "\n",
    "# 열 헤더 추출\n",
    "table = soup.find(\"table\", {\"class\": \"us_table_ty1 h_fix zigbg_no\"})\n",
    "if table:\n",
    "    columns = [th.get_text(strip=True) for th in table.find(\"thead\").find_all(\"th\")]\n",
    "else:\n",
    "    print(\"테이블을 찾을 수 없습니다.\")\n",
    "    exit()\n",
    "\n",
    "# 부채비율 데이터 추출\n",
    "row1 = soup.find(\"tr\", {\"id\": \"p_grid1_3\"})  # \"부채비율\" 행 선택\n",
    "if row1:\n",
    "    item_name1 = row1.select_one('th .txt_acd span').get_text(strip=True)\n",
    "    values1 = [td.get_text(strip=True) for td in row1.find_all(\"td\", {\"class\": \"r\"})]\n",
    "else:\n",
    "    item_name1 = \"부채비율\"\n",
    "    values1 = [\"N/A\"] * 5 # 데이터가 없을 경우 \"N/A\"로 채움\n",
    "# 유보율 데이터 추출\n",
    "row2 = soup.find(\"tr\", {\"id\": \"p_grid1_4\"})  # \"유보율\" 행 선택\n",
    "if row2:\n",
    "    item_name2 = row2.select_one('th .txt_acd span').get_text(strip=True)\n",
    "    values2 = [td.get_text(strip=True) for td in row2.find_all(\"td\", {\"class\": \"r\"})]\n",
    "else:\n",
    "    item_name2 = \"유보율\"\n",
    "    values2 = [\"N/A\"] * 5\n",
    "row3 = soup.find(\"tr\", {\"id\": \"p_grid1_18\"})  # ROE\" 행 선택\n",
    "if row3:\n",
    "    item_name3 = row3.select_one('th .txt_acd span').get_text(strip=True)\n",
    "    values3 = [td.get_text(strip=True) for td in row3.find_all(\"td\", {\"class\": \"r\"})]\n",
    "else:\n",
    "    item_name3 = \"ROE\"\n",
    "    values3 = [\"N/A\"] * 5\n",
    "row4 = soup.find(\"tr\", {\"id\": \"p_grid1_20\"})  # \"총자산회전율\" 행 선택\n",
    "if row4:\n",
    "    item_name4 = row4.select_one('th .txt_acd span').get_text(strip=True)\n",
    "    values4 = [td.get_text(strip=True) for td in row4.find_all(\"td\", {\"class\": \"r\"})]\n",
    "else:\n",
    "    item_name2 = \"총자산회전율\"\n",
    "    values4 = [\"N/A\"] * 5\n",
    "\n",
    "# 데이터프레임 생성\n",
    "data = [\n",
    "    [item_name1] + values1,\n",
    "    [item_name2] + values2,\n",
    "    [item_name3] + values3,\n",
    "    [item_name4] + values4\n",
    "]\n",
    "df = pd.DataFrame(data, columns=columns)\n",
    "\n",
    "# 결과 출력\n",
    "df\n"
   ]
  },
  {
   "cell_type": "code",
   "execution_count": 14,
   "metadata": {},
   "outputs": [
    {
     "name": "stdout",
     "output_type": "stream",
     "text": [
      "     IFRS 연결    2020/12    2021/12    2022/12    2023/12    2024/09\n",
      "0       시가총액  5,441,168  6,099,040  5,305,928  5,198,938  5,814,198\n",
      "1        PER      21.09      13.55       6.86      36.84           \n",
      "2        PBR       2.06       1.80       1.09       1.51       1.11\n",
      "3  EV/EBITDA       8.33       6.23       4.62      11.72           \n"
     ]
    }
   ],
   "source": [
    "import requests\n",
    "from bs4 import BeautifulSoup\n",
    "import pandas as pd\n",
    "\n",
    "# URL 설정\n",
    "url = \"https://comp.fnguide.com/SVO2/ASP/SVD_Invest.asp?pGB=1&gicode=A005930&cID=&MenuYn=Y&ReportGB=&NewMenuID=105&stkGb=701\"\n",
    "\n",
    "# 웹 페이지 요청\n",
    "headers = {\n",
    "    \"User-Agent\": \"Mozilla/5.0 (Windows NT 10.0; Win64; x64) AppleWebKit/537.36 (KHTML, like Gecko) Chrome/86.0.4240.183 Safari/537.36\"\n",
    "}\n",
    "response = requests.get(url, headers=headers)\n",
    "\n",
    "# 요청 성공 여부 확인\n",
    "if response.status_code != 200:\n",
    "    print(f\"페이지를 가져오지 못했습니다. 상태 코드: {response.status_code}\")\n",
    "    exit()\n",
    "\n",
    "# HTML 파싱\n",
    "soup = BeautifulSoup(response.content, 'html.parser')\n",
    "\n",
    "# 열 헤더 추출\n",
    "table = soup.find(\"table\", {\"class\": \"us_table_ty1 h_fix zigbg_no\"})\n",
    "if table:\n",
    "    columns = [th.get_text(strip=True) for th in table.find(\"thead\").find_all(\"th\")]\n",
    "else:\n",
    "    print(\"테이블을 찾을 수 없습니다.\")\n",
    "    exit()\n",
    "\n",
    "# 데이터 추출 함수\n",
    "def extract_row_data(row_id, default_name):\n",
    "    row = soup.find(\"tr\", {\"id\": row_id})\n",
    "    if row:\n",
    "        item_name = row.select_one('th .txt_acd span').get_text(strip=True) if row.select_one('th .txt_acd span') else default_name\n",
    "        values = [td.get_text(strip=True) for td in row.find_all(\"td\", {\"class\": \"r\"})]\n",
    "    else:\n",
    "        item_name = default_name\n",
    "        values = [\"N/A\"] * 5  # 데이터가 없을 경우 \"N/A\"로 채움\n",
    "    return item_name, values\n",
    "\n",
    "# \"시가총액\" 데이터 추출\n",
    "market_cap_row = None\n",
    "for row in soup.find_all(\"tr\"):\n",
    "    th = row.find(\"th\")\n",
    "    if th and \"시가총액\" in th.get_text(strip=True):\n",
    "        market_cap_row = row\n",
    "        break\n",
    "\n",
    "if market_cap_row:\n",
    "    market_cap_values = [td.get_text(strip=True) for td in market_cap_row.find_all(\"td\", {\"class\": \"r\"})]\n",
    "    market_cap_name = \"시가총액\"\n",
    "else:\n",
    "    market_cap_values = [\"N/A\"] * 5\n",
    "    market_cap_name = \"시가총액\"\n",
    "\n",
    "# (홀수 번째 데이터)\n",
    "market_cap = market_cap_values[::2] if market_cap_values else [\"N/A\"] * 5\n",
    "\n",
    "# 다른 데이터 추출\n",
    "item_name5, values5 = extract_row_data(\"p_grid1_9\", \"PER\")\n",
    "item_name6, values6 = extract_row_data(\"p_grid1_12\", \"PBR\")\n",
    "item_name7, values7 = extract_row_data(\"p_grid1_14\", \"EV/EBITDA\")\n",
    "\n",
    "# 데이터프레임 생성\n",
    "data = [\n",
    "    [market_cap_name] + market_cap,\n",
    "    [item_name5] + values5,\n",
    "    [item_name6] + values6,\n",
    "    [item_name7] + values7\n",
    "]\n",
    "df = pd.DataFrame(data, columns=columns)\n",
    "\n",
    "# 결과 출력\n",
    "print(df)\n"
   ]
  },
  {
   "cell_type": "code",
   "execution_count": null,
   "metadata": {},
   "outputs": [
    {
     "name": "stdout",
     "output_type": "stream",
     "text": [
      "데이터 처리 중: 삼성전자 (A005930)\n",
      "데이터 처리 중: NAVER (A035420)\n",
      "데이터 처리 중: 삼성SDI (A006400)\n",
      "데이터 처리 중: 크래프톤 (A259960)\n",
      "데이터 처리 중: 삼성에스디에스 (A018260)\n",
      "데이터 처리 중: LG이노텍 (A011070)\n",
      "데이터 처리 중: 한미반도체 (A042700)\n",
      "데이터 처리 중: DB하이텍 (A000990)\n",
      "데이터 처리 중: 솔루스첨단소재 (A336370)\n",
      "데이터 처리 중: 넷마블 (A251270)\n",
      "데이터 처리 중: 삼성전기 (A009150)\n",
      "데이터 처리 중: 에코프로 (A086520)\n",
      "데이터 처리 중: 엔씨소프트 (A036570)\n",
      "데이터 처리 중: 솔브레인 (A357780)\n",
      "데이터 처리 중: 현대오토에버 (A307950)\n",
      "데이터 처리 중: 동진쎄미켐 (A005290)\n",
      "데이터 처리 중: 리노공업 (A058470)\n",
      "데이터 처리 중: 카카오 (A035720)\n",
      "데이터 처리 중: LX세미콘 (A108320)\n",
      "데이터 처리 중: 해성디에스 (A195870)\n",
      "데이터 처리 중: 포스코DX (A022100)\n",
      "데이터 처리 중: HPSP (A403870)\n",
      "데이터 처리 중: SOOP (A067160)\n",
      "데이터 처리 중: 피엔티 (A137400)\n",
      "데이터 처리 중: 티씨케이 (A064760)\n",
      "데이터 처리 중: 더블유게임즈 (A192080)\n",
      "데이터 처리 중: 이오테크닉스 (A039030)\n",
      "데이터 처리 중: 제이앤티씨 (A204270)\n",
      "데이터 처리 중: 더블유씨피 (A393890)\n",
      "데이터 처리 중: 웹젠 (A069080)\n",
      "데이터 처리 중: 월덱스 (A101160)\n",
      "데이터 처리 중: KG이니시스 (A035600)\n",
      "데이터 처리 중: 펄어비스 (A263750)\n",
      "데이터 처리 중: 엘오티베큠 (A083310)\n",
      "데이터 처리 중: 롯데이노베이트 (A286940)\n",
      "데이터 처리 중: 두산테스나 (A131970)\n",
      "데이터 처리 중: 쏠리드 (A050890)\n",
      "데이터 처리 중: 컴투스 (A078340)\n",
      "데이터 처리 중: 피에스케이 (A319660)\n",
      "데이터 처리 중: NHN (A181710)\n",
      "데이터 처리 중: 네오위즈 (A095660)\n",
      "데이터 처리 중: 이녹스첨단소재 (A272290)\n",
      "데이터 처리 중: 더존비즈온 (A012510)\n",
      "데이터 처리 중: NHN KCP (A060250)\n",
      "데이터 처리 중: 이수페타시스 (A007660)\n",
      "데이터 처리 중: 비츠로셀 (A082920)\n",
      "데이터 처리 중: 성일하이텍 (A365340)\n",
      "데이터 처리 중: 덕산네오룩스 (A213420)\n",
      "데이터 처리 중: 안랩 (A053800)\n",
      "데이터 처리 중: 하나머티리얼즈 (A166090)\n",
      "데이터 처리 중: 주성엔지니어링 (A036930)\n",
      "데이터 처리 중: 파트론 (A091700)\n",
      "데이터 처리 중: 코미코 (A183300)\n",
      "데이터 처리 중: 기가비스 (A420770)\n",
      "데이터 처리 중: 케이씨텍 (A281820)\n",
      "데이터 처리 중: 넥스틴 (A348210)\n",
      "데이터 처리 중: KH바텍 (A060720)\n",
      "데이터 처리 중: 유진테크 (A084370)\n",
      "데이터 처리 중: 씨아이에스 (A222080)\n",
      "데이터 처리 중: 동운아나텍 (A094170)\n",
      "데이터 처리 중: 디어유 (A376300)\n",
      "데이터 처리 중: 파크시스템스 (A140860)\n",
      "데이터 처리 중: 에스앤에스텍 (A101490)\n",
      "데이터 처리 중: 제우스 (A079370)\n",
      "데이터 처리 중: 윤성에프앤씨 (A372170)\n",
      "데이터 처리 중: 대덕전자 (A353200)\n",
      "데이터 처리 중: 에스티아이 (A039440)\n",
      "데이터 처리 중: 솔루엠 (A248070)\n",
      "데이터 처리 중: 고영 (A098460)\n",
      "데이터 처리 중: 티이엠씨 (A425040)\n",
      "데이터 처리 중: 신흥에스이씨 (A243840)\n",
      "데이터 처리 중: 프로텍 (A053610)\n",
      "데이터 처리 중: 케이아이엔엑스 (A093320)\n",
      "데이터 처리 중: 비에이치 (A090460)\n",
      "데이터 처리 중: 원익QnC (A074600)\n",
      "데이터 처리 중: 피에스케이홀딩스 (A031980)\n",
      "데이터 처리 중: 한글과컴퓨터 (A030520)\n",
      "데이터 처리 중: 탑머티리얼 (A360070)\n",
      "데이터 처리 중: RFHIC (A218410)\n",
      "데이터 처리 중: 원익머트리얼즈 (A104830)\n",
      "데이터 처리 중: LS머트리얼즈 (A417200)\n",
      "데이터 처리 중: 엠씨넥스 (A097520)\n",
      "데이터 처리 중: ISC (A095340)\n",
      "데이터 처리 중: 제주반도체 (A080220)\n",
      "데이터 처리 중: 인탑스 (A049070)\n",
      "데이터 처리 중: 시노펙스 (A025320)\n",
      "데이터 처리 중: 상아프론테크 (A089980)\n",
      "데이터 처리 중: 롯데에너지머티리얼즈 (A020150)\n",
      "데이터 처리 중: 넥슨게임즈 (A225570)\n",
      "데이터 처리 중: 서진시스템 (A178320)\n",
      "데이터 처리 중: 티에스이 (A131290)\n",
      "데이터 처리 중: 서울반도체 (A046890)\n",
      "데이터 처리 중: 강원에너지 (A114190)\n",
      "데이터 처리 중: 가온칩스 (A399720)\n",
      "데이터 처리 중: 드림텍 (A192650)\n",
      "데이터 처리 중: 카페24 (A042000)\n",
      "데이터 처리 중: 에코프로머티 (A450080)\n",
      "데이터 처리 중: 인텔리안테크 (A189300)\n",
      "데이터 처리 중: 위메이드맥스 (A101730)\n",
      "데이터 처리 중: 에이직랜드 (A445090)\n"
     ]
    }
   ],
   "source": [
    "import pandas as pd\n",
    "import re\n",
    "import trafilatura\n",
    "import requests\n",
    "from bs4 import BeautifulSoup\n",
    "import json  # JSON 파일을 읽기 위한 모듈\n",
    "\n",
    "# JSON 파일에서 기업명과 고유 코드를 로드하는 함수\n",
    "def load_company_codes(file_path=\"extracted_dict.json\"):\n",
    "    try:\n",
    "        with open(file_path, 'r', encoding='utf-8') as file:\n",
    "            company_codes = json.load(file)\n",
    "        return company_codes\n",
    "    except FileNotFoundError:\n",
    "        print(f\"{file_path} 파일을 찾을 수 없습니다.\")\n",
    "        return {}\n",
    "    except json.JSONDecodeError:\n",
    "        print(f\"{file_path} 파일을 읽을 수 없습니다. 파일 형식이 올바른지 확인하세요.\")\n",
    "        return {}\n",
    "\n",
    "# URL 생성 함수\n",
    "def generate_urls(company_code):\n",
    "    url_finance = f\"https://comp.fnguide.com/SVO2/ASP/SVD_Finance.asp?pGB=1&gicode={company_code}&cID=&MenuYn=Y&ReportGB=&NewMenuID=103&stkGb=701\"\n",
    "    url_ratio = f\"https://comp.fnguide.com/SVO2/ASP/SVD_FinanceRatio.asp?pGB=1&gicode={company_code}&cID=&MenuYn=Y&ReportGB=&NewMenuID=104&stkGb=701\"\n",
    "    url_invest = f\"https://comp.fnguide.com/SVO2/ASP/SVD_Invest.asp?pGB=1&gicode={company_code}&cID=&MenuYn=Y&ReportGB=&NewMenuID=105&stkGb=701\"\n",
    "    \n",
    "    return url_finance, url_ratio, url_invest\n",
    "\n",
    "# Trafilatura로 HTML 본문 추출\n",
    "def fetch_data(url):\n",
    "    downloaded = trafilatura.fetch_url(url)\n",
    "    if downloaded:\n",
    "        return trafilatura.extract(downloaded, include_tables=True)\n",
    "    else:\n",
    "        print(f\"URL에서 데이터를 가져올 수 없습니다: {url}\")\n",
    "        return \"\"\n",
    "\n",
    "# 매출액, 당기순이익, 영업활동으로인한현금흐름 등 데이터 추출\n",
    "\n",
    "def extract_finance_data(text):\n",
    "    # 정규식 패턴: 매출액, 당기순이익, 영업활동현금흐름, 투자활동현금흐름, 재무활동현금흐름\n",
    "    pattern = r\"(매출액|당기순이익|영업활동으로인한현금흐름|투자활동으로인한현금흐름|재무활동으로인한현금흐름)\\s*\\|\\s*(.*?)\\n\"\n",
    "    matches = re.findall(pattern, text)\n",
    "\n",
    "    # 항목 처리\n",
    "    처리된_항목 = set()\n",
    "    data = []\n",
    "    columns = [\"항목\", \"2021/12\", \"2022/12\", \"2023/12\", \"2024/09\"]\n",
    "\n",
    "    for match in matches:\n",
    "        항목명 = match[0].replace(\"영업활동으로인한현금흐름\", \"영업활동현금흐름\") \\\n",
    "                         .replace(\"투자활동으로인한현금흐름\", \"투자활동현금흐름\") \\\n",
    "                         .replace(\"재무활동으로인한현금흐름\", \"재무활동현금흐름\")\n",
    "\n",
    "        if 항목명 in 처리된_항목:\n",
    "            continue\n",
    "        \n",
    "        처리된_항목.add(항목명)\n",
    "        row = [항목명] + [x.strip() for x in match[1].split(\"|\")]\n",
    "        \n",
    "        if len(row) < len(columns):\n",
    "            row += [None] * (len(columns) - len(row))\n",
    "        elif len(row) > len(columns):\n",
    "            row = row[:len(columns)]\n",
    "        \n",
    "        data.append(row)\n",
    "\n",
    "    df = pd.DataFrame(data, columns=columns)\n",
    "    \n",
    "    # 잉여현금흐름(Final Cash Flow) 계산\n",
    "    if {\"영업활동현금흐름\", \"투자활동현금흐름\", \"재무활동현금흐름\"}.issubset(df[\"항목\"].values):\n",
    "        # 쉼표를 제거하고 float으로 변환\n",
    "        영업활동현금흐름 = df.loc[df[\"항목\"] == \"영업활동현금흐름\"].iloc[:, 1:].replace({',': ''}, regex=True).values.astype(float)\n",
    "        투자활동현금흐름 = df.loc[df[\"항목\"] == \"투자활동현금흐름\"].iloc[:, 1:].replace({',': ''}, regex=True).values.astype(float)\n",
    "        재무활동현금흐름 = df.loc[df[\"항목\"] == \"재무활동현금흐름\"].iloc[:, 1:].replace({',': ''}, regex=True).values.astype(float)\n",
    "\n",
    "        # 합산하여 잉여현금흐름 계산\n",
    "        fcf = 영업활동현금흐름 + 투자활동현금흐름 + 재무활동현금흐름\n",
    "        fcf_row = [\"잉여현금흐름\"] + fcf[0].tolist()\n",
    "\n",
    "        # 잉여현금흐름 추가\n",
    "        fcf_df = pd.DataFrame([fcf_row], columns=columns)\n",
    "        df = pd.concat([df, fcf_df], ignore_index=True)\n",
    "\n",
    "    # 매출액, 당기순이익, 영업활동현금흐름, 잉여현금흐름만 포함\n",
    "    df = df[df[\"항목\"].isin([\"매출액\", \"당기순이익\", \"영업활동현금흐름\", \"잉여현금흐름\"])]\n",
    "    \n",
    "    return df\n",
    "\n",
    "\n",
    "def extract_row_data(soup, row_id, default_name):\n",
    "    row = soup.find(\"tr\", {\"id\": row_id})\n",
    "    if row:\n",
    "        item_name = row.select_one('th .txt_acd span').get_text(strip=True) if row.select_one('th .txt_acd span') else default_name\n",
    "        values = [td.get_text(strip=True) for td in row.find_all(\"td\", {\"class\": \"r\"})]\n",
    "    else:\n",
    "        item_name = default_name\n",
    "        values = [\"N/A\"] * 5\n",
    "    return item_name, values\n",
    "\n",
    "def extract_ratio_data(url):\n",
    "    response = requests.get(url, headers={\"User-Agent\": \"Mozilla/5.0\"})\n",
    "    if response.status_code != 200:\n",
    "        print(f\"페이지를 가져오지 못했습니다. 상태 코드: {response.status_code}\")\n",
    "        return pd.DataFrame()\n",
    "\n",
    "    soup = BeautifulSoup(response.content, 'html.parser')\n",
    "    table = soup.find(\"table\", {\"class\": \"us_table_ty1 h_fix zigbg_no\"})\n",
    "    if table:\n",
    "        columns = [th.get_text(strip=True) for th in table.find(\"thead\").find_all(\"th\")]\n",
    "    else:\n",
    "        print(\"테이블을 찾을 수 없습니다.\")\n",
    "        return pd.DataFrame()\n",
    "\n",
    "    item_name1, values1 = extract_row_data(soup, \"p_grid1_3\", \"부채비율\")\n",
    "    item_name2, values2 = extract_row_data(soup, \"p_grid1_4\", \"유보율\")\n",
    "    item_name3, values3 = extract_row_data(soup, \"p_grid1_18\", \"ROE\")\n",
    "    item_name4, values4 = extract_row_data(soup, \"p_grid1_20\", \"총자산회전율\")\n",
    "\n",
    "    data = [\n",
    "        [item_name1] + values1,\n",
    "        [item_name2] + values2,\n",
    "        [item_name3] + values3,\n",
    "        [item_name4] + values4\n",
    "    ]\n",
    "    \n",
    "    df = pd.DataFrame(data, columns=columns)\n",
    "    df.rename(columns={df.columns[0]: \"항목\"}, inplace=True)\n",
    "    \n",
    "    return df\n",
    "\n",
    "def extract_invest_data(url):\n",
    "    response = requests.get(url, headers={\"User-Agent\": \"Mozilla/5.0\"})\n",
    "    if response.status_code != 200:\n",
    "        print(f\"페이지를 가져오지 못했습니다. 상태 코드: {response.status_code}\")\n",
    "        return pd.DataFrame()\n",
    "\n",
    "    soup = BeautifulSoup(response.content, 'html.parser')\n",
    "    table = soup.find(\"table\", {\"class\": \"us_table_ty1 h_fix zigbg_no\"})\n",
    "    if table:\n",
    "        columns = [th.get_text(strip=True) for th in table.find(\"thead\").find_all(\"th\")]\n",
    "    else:\n",
    "        print(\"테이블을 찾을 수 없습니다.\")\n",
    "        return pd.DataFrame()\n",
    "\n",
    "    market_cap_row = None\n",
    "    for row in soup.find_all(\"tr\"):\n",
    "        th = row.find(\"th\")\n",
    "        if th and \"시가총액\" in th.get_text(strip=True):\n",
    "            market_cap_row = row\n",
    "            break\n",
    "\n",
    "    if market_cap_row:\n",
    "        market_cap_values = [td.get_text(strip=True) for td in market_cap_row.find_all(\"td\", {\"class\": \"r\"})]\n",
    "        market_cap_name = \"시가총액\"\n",
    "    else:\n",
    "        market_cap_values = [\"N/A\"] * 5\n",
    "        market_cap_name = \"시가총액\"\n",
    "\n",
    "    market_cap = market_cap_values[::2] if market_cap_values else [\"N/A\"] * 5\n",
    "\n",
    "    item_name5, values5 = extract_row_data(soup, \"p_grid1_9\", \"PER\")\n",
    "    item_name6, values6 = extract_row_data(soup, \"p_grid1_12\", \"PBR\")\n",
    "    item_name7, values7 = extract_row_data(soup, \"p_grid1_14\", \"EV/EBITDA\")\n",
    "\n",
    "    data = [\n",
    "        [market_cap_name] + market_cap,\n",
    "        [item_name5] + values5,\n",
    "        [item_name6] + values6,\n",
    "        [item_name7] + values7\n",
    "    ]\n",
    "    \n",
    "    df = pd.DataFrame(data, columns=columns)\n",
    "    df.rename(columns={df.columns[0]: \"항목\"}, inplace=True)\n",
    "    \n",
    "    return df\n",
    "\n",
    "def merge_dataframes(df_finance, df_ratio, df_invest, company_name):\n",
    "    df_finance[\"기업명\"] = company_name  # 기업명 열 추가\n",
    "    df_ratio[\"기업명\"] = company_name\n",
    "    df_invest[\"기업명\"] = company_name\n",
    "\n",
    "    combined_df = pd.concat([df_finance, df_ratio, df_invest], ignore_index=True, sort=False)\n",
    "    combined_df = combined_df.fillna(\"N/A\")\n",
    "    columns = ['기업명', '항목'] + sorted([col for col in combined_df.columns if col not in ['기업명', '항목']])\n",
    "    combined_df = combined_df[columns]\n",
    "    \n",
    "    return combined_df\n",
    "\n",
    "# 모든 기업에 대해 데이터 처리 및 저장\n",
    "def process_and_save_all_data():\n",
    "    company_codes = load_company_codes(\"extracted_dict.json\")\n",
    "    \n",
    "    all_data = []  # 모든 데이터를 저장할 리스트\n",
    "\n",
    "    for company_name, company_code in company_codes.items():\n",
    "        print(f\"데이터 처리 중: {company_name} ({company_code})\")\n",
    "        \n",
    "        # URL 생성\n",
    "        url_finance, url_ratio, url_invest = generate_urls(company_code)\n",
    "        \n",
    "        # Trafilatura로 금융 데이터 가져오기\n",
    "        finance_data = fetch_data(url_finance)\n",
    "        df_finance = extract_finance_data(finance_data)\n",
    "        \n",
    "        # 비율 데이터와 투자 데이터를 가져오기\n",
    "        df_ratio = extract_ratio_data(url_ratio)\n",
    "        df_invest = extract_invest_data(url_invest)\n",
    "\n",
    "        # DataFrame들을 병합\n",
    "        combined_df = merge_dataframes(df_finance, df_ratio, df_invest, company_name)\n",
    "        \n",
    "        # 기업명별로 데이터를 추가\n",
    "        all_data.append(combined_df)\n",
    "\n",
    "    # 모든 기업의 데이터를 하나의 DataFrame으로 합침\n",
    "    final_df = pd.concat(all_data, ignore_index=True)\n",
    "\n",
    "    # 하나의 CSV로 저장\n",
    "    final_df.to_csv(\"all_company_data.csv\", index=False, encoding=\"utf-8-sig\")\n",
    "\n",
    "# 실행\n",
    "process_and_save_all_data()\n"
   ]
  },
  {
   "cell_type": "code",
   "execution_count": 77,
   "metadata": {},
   "outputs": [
    {
     "name": "stdout",
     "output_type": "stream",
     "text": [
      "'삼성전자'의 값은: A005930\n"
     ]
    }
   ],
   "source": [
    "import json\n",
    "\n",
    "# JSON 파일에서 딕셔너리 로드\n",
    "with open(\"extracted_dict.json\", \"r\", encoding=\"utf-8\") as f:\n",
    "    extracted_dict = json.load(f)\n",
    "\n",
    "# 검색할 키값을 입력받음\n",
    "search_key = input(\"검색할 키값을 입력하세요: \")\n",
    "\n",
    "# 딕셔너리에서 키값을 검색하고 값 출력\n",
    "if search_key in extracted_dict:\n",
    "    print(f\"'{search_key}'의 값은: {extracted_dict[search_key]}\")\n",
    "else:\n",
    "    print(f\"'{search_key}'에 해당하는 값이 없습니다.\")\n"
   ]
  },
  {
   "cell_type": "code",
   "execution_count": null,
   "metadata": {},
   "outputs": [
    {
     "name": "stdout",
     "output_type": "stream",
     "text": [
      "selUpjong 드롭다운에서 IT 업종이 선택되었습니다.\n",
      "조회 버튼이 클릭되었습니다.\n"
     ]
    }
   ],
   "source": [
    "import re\n",
    "from selenium import webdriver\n",
    "from selenium.webdriver.common.by import By\n",
    "from selenium.webdriver.chrome.service import Service\n",
    "from selenium.webdriver.support.ui import WebDriverWait\n",
    "from selenium.webdriver.support import expected_conditions as EC\n",
    "from selenium.webdriver.support.ui import Select\n",
    "from webdriver_manager.chrome import ChromeDriverManager\n",
    "import time\n",
    "import json\n",
    "\n",
    "# Chrome WebDriver 설정\n",
    "options = webdriver.ChromeOptions()\n",
    "options.add_argument('--headless')  # 브라우저 창을 열지 않음\n",
    "options.add_argument('--no-sandbox')\n",
    "options.add_argument('--disable-dev-shm-usage')\n",
    "\n",
    "# WebDriver 실행 (webdriver_manager로 자동 설치)\n",
    "driver = webdriver.Chrome(service=Service(ChromeDriverManager().install()), options=options)\n",
    "\n",
    "# URL로 이동\n",
    "url = \"https://comp.fnguide.com/SVO2/asp/SVD_UJRank.asp?pGB=1&gicode=A000270&cID=&MenuYn=Y&ReportGB=&NewMenuID=301&stkGb=701\"\n",
    "driver.get(url)\n",
    "\n",
    "# 페이지 로드 대기\n",
    "time.sleep(3)\n",
    "\n",
    "# selUpjong 드롭다운에서 IT 업종 선택\n",
    "try:\n",
    "    # ID가 'selUpjong'인 드롭다운 요소를 대기\n",
    "    dropdown = WebDriverWait(driver, 10).until(\n",
    "        EC.presence_of_element_located((By.ID, 'selUpjong'))\n",
    "    )\n",
    "    select_element = Select(dropdown)  # Select 객체로 변환\n",
    "    select_element.select_by_value(\"FI00.45\")  # IT 업종의 value 값 선택\n",
    "\n",
    "    time.sleep(2)  # 변경 내용 반영 대기\n",
    "\n",
    "    # 조회 버튼 클릭\n",
    "    search_button = WebDriverWait(driver, 10).until(\n",
    "        EC.element_to_be_clickable((By.ID, 'btnSearch'))\n",
    "    )\n",
    "    search_button.click()  # 조회 버튼 클릭\n",
    "\n",
    "    time.sleep(5)  # 페이지 로드 대기\n",
    "except Exception as e:\n",
    "    print(\"업종 선택 또는 조회 버튼 클릭에 실패했습니다:\", e)\n",
    "    driver.quit()\n",
    "    exit()\n",
    "\n",
    "# class=\"l tbold\"인 <td> 태그 찾기\n",
    "td_elements = driver.find_elements(By.CLASS_NAME, \"l.tbold\")\n",
    "\n",
    "# 딕셔너리 형태로 값들을 저장할 변수\n",
    "extracted_dict = {}\n",
    "\n",
    "# 각 <td> 태그 내에서 하이퍼링크 (a 태그) 추출\n",
    "for td in td_elements:\n",
    "    # <td> 안의 모든 <a> 태그 찾기\n",
    "    a_tags = td.find_elements(By.TAG_NAME, 'a')\n",
    "    \n",
    "    # 각 <a> 태그의 href 속성(링크) 추출\n",
    "    for a in a_tags:\n",
    "        link = a.get_attribute('href')\n",
    "        \n",
    "        # 'javascript:ViewReport(...)'에서 인자값만 추출하는 정규 표현식\n",
    "        match = re.search(r\"javascript:ViewReport\\('([^']+)'\\)\", link)\n",
    "        \n",
    "        if match:\n",
    "            # a 태그의 텍스트를 키로, 추출한 인자값을 값으로 딕셔너리에 추가\n",
    "            extracted_dict[a.text] = match.group(1)\n",
    "            \n",
    "            # 최대 100개만 추출\n",
    "            if len(extracted_dict) >= 100:\n",
    "                break\n",
    "\n",
    "    # 100개 이상 추출되면 반복 종료\n",
    "    if len(extracted_dict) >= 100:\n",
    "        break\n",
    "\n",
    "# 추출한 딕셔너리를 JSON 파일로 저장\n",
    "with open(\"extracted_dict.json\", \"w\", encoding=\"utf-8\") as f:\n",
    "    json.dump(extracted_dict, f, ensure_ascii=False, indent=4)\n",
    "\n",
    "# WebDriver 종료\n",
    "driver.quit()\n",
    "'all_company_data.csv'"
   ]
  },
  {
   "cell_type": "code",
   "execution_count": null,
   "metadata": {},
   "outputs": [
    {
     "name": "stdout",
     "output_type": "stream",
     "text": [
      "평균값을 '기업명=average'로 추가한 데이터를 all_company_data.csv에 저장했습니다.\n"
     ]
    }
   ],
   "source": [
    "import pandas as pd\n",
    "\n",
    "# CSV 파일 읽기 (파일 경로를 넣어야 함)\n",
    "file_path = 'all_company_data.csv'\n",
    "df = pd.read_csv(file_path)\n",
    "\n",
    "# NaN을 제외하고 평균 계산 (숫자형 데이터만 사용)\n",
    "df = df.replace({'N/A': None, ',': ''}, regex=True)  # 'N/A'를 None으로, ',' 제거\n",
    "df.iloc[:, 2:] = df.iloc[:, 2:].apply(pd.to_numeric, errors='coerce')  # 숫자형으로 변환\n",
    "\n",
    "# '기업명' 열을 제외하고, 각 항목별로 기업들의 평균 계산\n",
    "averages = df.drop(columns='기업명').groupby('항목').mean()\n",
    "\n",
    "# 평균값을 소수점 1자리까지 반올림 후 문자열로 변환\n",
    "averages = averages.round(1).astype(str)\n",
    "\n",
    "# 평균값 DataFrame 정리 (기업명: average 추가)\n",
    "averages = averages.reset_index()  # 항목을 인덱스에서 컬럼으로 이동\n",
    "averages['기업명'] = 'average'  # 기업명 추가\n",
    "\n",
    "# 원하는 항목 순서대로 리스트 생성\n",
    "desired_order = [\n",
    "    '매출액', '당기순이익', '영업활동현금흐름', '잉여현금흐름', '부채비율', \n",
    "    '유보율', 'ROE', '총자산회전율', '시가총액', 'PER', 'PBR', 'EV/EBITDA'\n",
    "]\n",
    "\n",
    "# 항목 순서를 원하는 대로 재정렬\n",
    "averages = averages.set_index('항목').reindex([item for item in desired_order]).reset_index()\n",
    "\n",
    "# 원본 데이터에 평균값 추가\n",
    "df = pd.concat([df, averages], ignore_index=True)\n",
    "\n",
    "# 모든 값을 문자열로 변환 (소수점 형식 유지)\n",
    "df = df.astype(str)\n",
    "\n",
    "# CSV 파일로 저장 (덮어쓰기)\n",
    "df.to_csv(file_path, index=False)\n"
   ]
  },
  {
   "cell_type": "code",
   "execution_count": 9,
   "metadata": {},
   "outputs": [
    {
     "name": "stdout",
     "output_type": "stream",
     "text": [
      "      기업명         항목  2020/12  2021/12  2022/12   2023/12 2024/09  2024/06\n",
      "24  삼성SDI        매출액      NaN  135,532  201,241   227,083  95,810      NaN\n",
      "25  삼성SDI      당기순이익      NaN   12,504   20,394    20,660   5,878      NaN\n",
      "26  삼성SDI   영업활동현금흐름      NaN   21,760   26,411    21,035  -6,246      NaN\n",
      "27  삼성SDI     잉여현금흐름      NaN   8092.0   3236.0  -10986.0  1168.0      NaN\n",
      "28  삼성SDI       부채비율     61.2     70.0     75.7      71.0     NaN     78.3\n",
      "29  삼성SDI        유보율  3,634.9  4,118.9  4,618.3   5,186.2     NaN  5,451.2\n",
      "30  삼성SDI        ROE      4.5      8.5     12.5      11.5     NaN      6.3\n",
      "31  삼성SDI     총자산회전율      0.6      0.6      0.7       0.7     NaN      0.5\n",
      "32  삼성SDI       시가총액  436,776  569,216  528,265   550,982     NaN  338,612\n",
      "33  삼성SDI        PER    76.91    39.41    21.31     16.53     NaN      NaN\n",
      "34  삼성SDI        PBR     3.32     3.06     2.47      1.76     NaN     1.26\n",
      "35  삼성SDI  EV/EBITDA    26.38    20.80    13.41     11.28     NaN      NaN\n"
     ]
    }
   ],
   "source": [
    "import pandas as pd\n",
    "\n",
    "# CSV 파일 읽기\n",
    "file_path = \"all_company_data.csv\"\n",
    "data = pd.read_csv(file_path)\n",
    "\n",
    "# \"삼성전자\" 데이터만 필터링\n",
    "samsung_data = data[data[\"기업명\"] == \"삼성SDI\"]\n",
    "\n",
    "# 결과 확인\n",
    "print(samsung_data)\n"
   ]
  },
  {
   "cell_type": "code",
   "execution_count": 46,
   "metadata": {},
   "outputs": [
    {
     "name": "stdout",
     "output_type": "stream",
     "text": [
      "          기업명         항목        최근값\n",
      "0        삼성전자        매출액  2250826.0\n",
      "1        삼성전자      당기순이익   266970.0\n",
      "2        삼성전자   영업활동현금흐름   509604.0\n",
      "3        삼성전자     잉여현금흐름  -275696.0\n",
      "4        삼성전자       부채비율       27.2\n",
      "...       ...        ...        ...\n",
      "1207  average     총자산회전율        0.7\n",
      "1208  average       시가총액    30089.7\n",
      "1209  average        PER      109.7\n",
      "1210  average        PBR        3.4\n",
      "1211  average  EV/EBITDA       32.1\n",
      "\n",
      "[1212 rows x 3 columns]\n"
     ]
    }
   ],
   "source": [
    "import pandas as pd\n",
    "\n",
    "# CSV 파일 읽기\n",
    "file_path = \"all_company_data.csv\"\n",
    "data = pd.read_csv(file_path)\n",
    "\n",
    "# NaN 값을 채우기 위한 함수\n",
    "def get_filled_latest_value(row):\n",
    "    # NaN 값을 가장 최근 데이터로 채움\n",
    "    for column in reversed(row.index[2:]):  # \"2020/12\" 이후 컬럼만 탐색\n",
    "        if pd.notna(row[column]):\n",
    "            return row[column]\n",
    "    return None  # 모든 값이 NaN일 경우\n",
    "\n",
    "# 기업별로 데이터 변형\n",
    "result_dfs = []  # 각 기업별 결과를 저장할 리스트\n",
    "for company in data[\"기업명\"].unique():\n",
    "    # 해당 기업 데이터 필터링\n",
    "    company_data = data[data[\"기업명\"] == company]\n",
    "    \n",
    "    # NaN 없이 최근 값 추출\n",
    "    filled_values = company_data.apply(get_filled_latest_value, axis=1)\n",
    "    \n",
    "    # 새로운 데이터프레임 생성\n",
    "    result_df = pd.DataFrame({\n",
    "        \"기업명\": company_data[\"기업명\"],\n",
    "        \"항목\": company_data[\"항목\"],\n",
    "        \"최근값\": filled_values\n",
    "    })\n",
    "    \n",
    "    result_dfs.append(result_df)\n",
    "\n",
    "# 모든 기업 데이터 합치기\n",
    "final_result = pd.concat(result_dfs, ignore_index=True)\n",
    "\n",
    "# 결과 확인\n",
    "print(final_result)\n",
    "\n",
    "# 결과를 CSV로 저장\n",
    "final_result.to_csv(\"processed_company_data.csv\", index=False, encoding=\"utf-8-sig\")\n"
   ]
  },
  {
   "cell_type": "code",
   "execution_count": 72,
   "metadata": {},
   "outputs": [
    {
     "name": "stdout",
     "output_type": "stream",
     "text": [
      "         기업명         항목       최근값  점수\n",
      "0      DB하이텍  EV/EBITDA      6.52   9\n",
      "1      DB하이텍        PBR      1.12   8\n",
      "2      DB하이텍        PER      9.87  10\n",
      "3      DB하이텍        ROE     12.10   7\n",
      "4      DB하이텍      당기순이익   1080.00   9\n",
      "...      ...        ...       ...  ..\n",
      "1207  현대오토에버       시가총액  54683.00   9\n",
      "1208  현대오토에버   영업활동현금흐름   2383.00  10\n",
      "1209  현대오토에버        유보율  12045.50   9\n",
      "1210  현대오토에버     잉여현금흐름  -1895.00   1\n",
      "1211  현대오토에버     총자산회전율      1.20   9\n",
      "\n",
      "[1212 rows x 4 columns]\n"
     ]
    }
   ],
   "source": [
    "import pandas as pd\n",
    "import numpy as np\n",
    "\n",
    "# CSV 파일 읽기\n",
    "file_path = \"processed_company_data.csv\"\n",
    "data = pd.read_csv(file_path)\n",
    "\n",
    "# 점수 계산 함수 (1 ~ 10 점수)\n",
    "def assign_scores(df, column=\"최근값\"):\n",
    "    scores = list(range(1, 11))  # 점수는 1부터 10까지\n",
    "    \n",
    "    # NaN 값 제외하고 계산\n",
    "    valid_values = df[column].dropna()\n",
    "    if valid_values.empty:\n",
    "        df[\"점수\"] = np.nan\n",
    "        return df\n",
    "    \n",
    "    # 각 값의 순위를 계산하여 점수 부여\n",
    "    rank = valid_values.rank(pct=True)  # 값들을 0~1 사이로 정규화된 순위로 변환\n",
    "    df[\"점수\"] = pd.cut(rank, bins=np.linspace(0, 1, 11), labels=scores, include_lowest=True).astype(int)\n",
    "    \n",
    "    return df\n",
    "\n",
    "# 항목별로 점수 계산\n",
    "scored_data = []\n",
    "for 항목 in data[\"항목\"].unique():\n",
    "    항목_data = data[data[\"항목\"] == 항목].copy()\n",
    "    항목_data = assign_scores(항목_data)\n",
    "\n",
    "    # 반대로 계산할 항목 (예: 부채비율, PER, PBR, EV/EBITDA)\n",
    "    if 항목 in [\"부채비율\", \"PER\", \"PBR\", \"EV/EBITDA\"]:\n",
    "        항목_data[\"점수\"] = 11 - 항목_data[\"점수\"]  # 계산된 점수에서 11을 빼서 반전\n",
    "    \n",
    "    scored_data.append(항목_data)\n",
    "\n",
    "# 결과 합치기\n",
    "final_data = pd.concat(scored_data, ignore_index=True)\n",
    "\n",
    "# 기업명 기준 정렬\n",
    "final_data = final_data.sort_values(by=[\"기업명\", \"항목\"], ignore_index=True)\n",
    "\n",
    "# NaN 점수 기본 처리 (0점 할당)\n",
    "final_data[\"점수\"] = final_data[\"점수\"].fillna(0).astype(int)\n",
    "\n",
    "# 결과 확인\n",
    "print(final_data)\n",
    "\n",
    "# 결과를 CSV로 저장\n",
    "final_data.to_csv(\"scored_company_data_sorted.csv\", index=False, encoding=\"utf-8-sig\")\n"
   ]
  },
  {
   "cell_type": "code",
   "execution_count": 74,
   "metadata": {},
   "outputs": [
    {
     "data": {
      "text/html": [
       "<div>\n",
       "<style scoped>\n",
       "    .dataframe tbody tr th:only-of-type {\n",
       "        vertical-align: middle;\n",
       "    }\n",
       "\n",
       "    .dataframe tbody tr th {\n",
       "        vertical-align: top;\n",
       "    }\n",
       "\n",
       "    .dataframe thead th {\n",
       "        text-align: right;\n",
       "    }\n",
       "</style>\n",
       "<table border=\"1\" class=\"dataframe\">\n",
       "  <thead>\n",
       "    <tr style=\"text-align: right;\">\n",
       "      <th></th>\n",
       "      <th>기업명</th>\n",
       "      <th>항목</th>\n",
       "      <th>최근값</th>\n",
       "      <th>점수</th>\n",
       "    </tr>\n",
       "  </thead>\n",
       "  <tbody>\n",
       "    <tr>\n",
       "      <th>0</th>\n",
       "      <td>DB하이텍</td>\n",
       "      <td>EV/EBITDA</td>\n",
       "      <td>6.52</td>\n",
       "      <td>9</td>\n",
       "    </tr>\n",
       "    <tr>\n",
       "      <th>1</th>\n",
       "      <td>DB하이텍</td>\n",
       "      <td>PBR</td>\n",
       "      <td>1.12</td>\n",
       "      <td>8</td>\n",
       "    </tr>\n",
       "    <tr>\n",
       "      <th>2</th>\n",
       "      <td>DB하이텍</td>\n",
       "      <td>PER</td>\n",
       "      <td>9.87</td>\n",
       "      <td>10</td>\n",
       "    </tr>\n",
       "    <tr>\n",
       "      <th>3</th>\n",
       "      <td>DB하이텍</td>\n",
       "      <td>ROE</td>\n",
       "      <td>12.10</td>\n",
       "      <td>7</td>\n",
       "    </tr>\n",
       "    <tr>\n",
       "      <th>4</th>\n",
       "      <td>DB하이텍</td>\n",
       "      <td>당기순이익</td>\n",
       "      <td>1080.00</td>\n",
       "      <td>9</td>\n",
       "    </tr>\n",
       "    <tr>\n",
       "      <th>...</th>\n",
       "      <td>...</td>\n",
       "      <td>...</td>\n",
       "      <td>...</td>\n",
       "      <td>...</td>\n",
       "    </tr>\n",
       "    <tr>\n",
       "      <th>1207</th>\n",
       "      <td>현대오토에버</td>\n",
       "      <td>시가총액</td>\n",
       "      <td>54683.00</td>\n",
       "      <td>9</td>\n",
       "    </tr>\n",
       "    <tr>\n",
       "      <th>1208</th>\n",
       "      <td>현대오토에버</td>\n",
       "      <td>영업활동현금흐름</td>\n",
       "      <td>2383.00</td>\n",
       "      <td>10</td>\n",
       "    </tr>\n",
       "    <tr>\n",
       "      <th>1209</th>\n",
       "      <td>현대오토에버</td>\n",
       "      <td>유보율</td>\n",
       "      <td>12045.50</td>\n",
       "      <td>9</td>\n",
       "    </tr>\n",
       "    <tr>\n",
       "      <th>1210</th>\n",
       "      <td>현대오토에버</td>\n",
       "      <td>잉여현금흐름</td>\n",
       "      <td>-1895.00</td>\n",
       "      <td>1</td>\n",
       "    </tr>\n",
       "    <tr>\n",
       "      <th>1211</th>\n",
       "      <td>현대오토에버</td>\n",
       "      <td>총자산회전율</td>\n",
       "      <td>1.20</td>\n",
       "      <td>9</td>\n",
       "    </tr>\n",
       "  </tbody>\n",
       "</table>\n",
       "<p>1212 rows × 4 columns</p>\n",
       "</div>"
      ],
      "text/plain": [
       "         기업명         항목       최근값  점수\n",
       "0      DB하이텍  EV/EBITDA      6.52   9\n",
       "1      DB하이텍        PBR      1.12   8\n",
       "2      DB하이텍        PER      9.87  10\n",
       "3      DB하이텍        ROE     12.10   7\n",
       "4      DB하이텍      당기순이익   1080.00   9\n",
       "...      ...        ...       ...  ..\n",
       "1207  현대오토에버       시가총액  54683.00   9\n",
       "1208  현대오토에버   영업활동현금흐름   2383.00  10\n",
       "1209  현대오토에버        유보율  12045.50   9\n",
       "1210  현대오토에버     잉여현금흐름  -1895.00   1\n",
       "1211  현대오토에버     총자산회전율      1.20   9\n",
       "\n",
       "[1212 rows x 4 columns]"
      ]
     },
     "execution_count": 74,
     "metadata": {},
     "output_type": "execute_result"
    }
   ],
   "source": [
    "final_data"
   ]
  },
  {
   "cell_type": "code",
   "execution_count": 36,
   "metadata": {},
   "outputs": [
    {
     "data": {
      "application/vnd.plotly.v1+json": {
       "config": {
        "plotlyServerURL": "https://plot.ly"
       },
       "data": [
        {
         "hoverinfo": "text",
         "marker": {
          "color": "blue",
          "size": 8
         },
         "mode": "markers+lines",
         "r": [
          7,
          5,
          8,
          10,
          10,
          9,
          9,
          10,
          10,
          10,
          3,
          2,
          7
         ],
         "text": [
          "EV/EBITDA: 최근값 = 10.69",
          "PBR: 최근값 = 2.18",
          "PER: 최근값 = 15.84",
          "ROE: 최근값 = 23.8",
          "당기순이익: 최근값 = 6900.0",
          "매출액: 최근값 = 13729.0",
          "부채비율: 최근값 = 17.2",
          "시가총액: 최근값 = 142228.0",
          "영업활동현금흐름: 최근값 = 4059.0",
          "유보율: 최근값 = 125255.9",
          "잉여현금흐름: 최근값 = -337.0",
          "총자산회전율: 최근값 = 0.4"
         ],
         "theta": [
          "EV/EBITDA",
          "PBR",
          "PER",
          "ROE",
          "당기순이익",
          "매출액",
          "부채비율",
          "시가총액",
          "영업활동현금흐름",
          "유보율",
          "잉여현금흐름",
          "총자산회전율"
         ],
         "type": "scatterpolar"
        }
       ],
       "layout": {
        "polar": {
         "radialaxis": {
          "range": [
           0,
           10
          ],
          "visible": true
         }
        },
        "showlegend": false,
        "template": {
         "data": {
          "bar": [
           {
            "error_x": {
             "color": "#2a3f5f"
            },
            "error_y": {
             "color": "#2a3f5f"
            },
            "marker": {
             "line": {
              "color": "#E5ECF6",
              "width": 0.5
             },
             "pattern": {
              "fillmode": "overlay",
              "size": 10,
              "solidity": 0.2
             }
            },
            "type": "bar"
           }
          ],
          "barpolar": [
           {
            "marker": {
             "line": {
              "color": "#E5ECF6",
              "width": 0.5
             },
             "pattern": {
              "fillmode": "overlay",
              "size": 10,
              "solidity": 0.2
             }
            },
            "type": "barpolar"
           }
          ],
          "carpet": [
           {
            "aaxis": {
             "endlinecolor": "#2a3f5f",
             "gridcolor": "white",
             "linecolor": "white",
             "minorgridcolor": "white",
             "startlinecolor": "#2a3f5f"
            },
            "baxis": {
             "endlinecolor": "#2a3f5f",
             "gridcolor": "white",
             "linecolor": "white",
             "minorgridcolor": "white",
             "startlinecolor": "#2a3f5f"
            },
            "type": "carpet"
           }
          ],
          "choropleth": [
           {
            "colorbar": {
             "outlinewidth": 0,
             "ticks": ""
            },
            "type": "choropleth"
           }
          ],
          "contour": [
           {
            "colorbar": {
             "outlinewidth": 0,
             "ticks": ""
            },
            "colorscale": [
             [
              0,
              "#0d0887"
             ],
             [
              0.1111111111111111,
              "#46039f"
             ],
             [
              0.2222222222222222,
              "#7201a8"
             ],
             [
              0.3333333333333333,
              "#9c179e"
             ],
             [
              0.4444444444444444,
              "#bd3786"
             ],
             [
              0.5555555555555556,
              "#d8576b"
             ],
             [
              0.6666666666666666,
              "#ed7953"
             ],
             [
              0.7777777777777778,
              "#fb9f3a"
             ],
             [
              0.8888888888888888,
              "#fdca26"
             ],
             [
              1,
              "#f0f921"
             ]
            ],
            "type": "contour"
           }
          ],
          "contourcarpet": [
           {
            "colorbar": {
             "outlinewidth": 0,
             "ticks": ""
            },
            "type": "contourcarpet"
           }
          ],
          "heatmap": [
           {
            "colorbar": {
             "outlinewidth": 0,
             "ticks": ""
            },
            "colorscale": [
             [
              0,
              "#0d0887"
             ],
             [
              0.1111111111111111,
              "#46039f"
             ],
             [
              0.2222222222222222,
              "#7201a8"
             ],
             [
              0.3333333333333333,
              "#9c179e"
             ],
             [
              0.4444444444444444,
              "#bd3786"
             ],
             [
              0.5555555555555556,
              "#d8576b"
             ],
             [
              0.6666666666666666,
              "#ed7953"
             ],
             [
              0.7777777777777778,
              "#fb9f3a"
             ],
             [
              0.8888888888888888,
              "#fdca26"
             ],
             [
              1,
              "#f0f921"
             ]
            ],
            "type": "heatmap"
           }
          ],
          "heatmapgl": [
           {
            "colorbar": {
             "outlinewidth": 0,
             "ticks": ""
            },
            "colorscale": [
             [
              0,
              "#0d0887"
             ],
             [
              0.1111111111111111,
              "#46039f"
             ],
             [
              0.2222222222222222,
              "#7201a8"
             ],
             [
              0.3333333333333333,
              "#9c179e"
             ],
             [
              0.4444444444444444,
              "#bd3786"
             ],
             [
              0.5555555555555556,
              "#d8576b"
             ],
             [
              0.6666666666666666,
              "#ed7953"
             ],
             [
              0.7777777777777778,
              "#fb9f3a"
             ],
             [
              0.8888888888888888,
              "#fdca26"
             ],
             [
              1,
              "#f0f921"
             ]
            ],
            "type": "heatmapgl"
           }
          ],
          "histogram": [
           {
            "marker": {
             "pattern": {
              "fillmode": "overlay",
              "size": 10,
              "solidity": 0.2
             }
            },
            "type": "histogram"
           }
          ],
          "histogram2d": [
           {
            "colorbar": {
             "outlinewidth": 0,
             "ticks": ""
            },
            "colorscale": [
             [
              0,
              "#0d0887"
             ],
             [
              0.1111111111111111,
              "#46039f"
             ],
             [
              0.2222222222222222,
              "#7201a8"
             ],
             [
              0.3333333333333333,
              "#9c179e"
             ],
             [
              0.4444444444444444,
              "#bd3786"
             ],
             [
              0.5555555555555556,
              "#d8576b"
             ],
             [
              0.6666666666666666,
              "#ed7953"
             ],
             [
              0.7777777777777778,
              "#fb9f3a"
             ],
             [
              0.8888888888888888,
              "#fdca26"
             ],
             [
              1,
              "#f0f921"
             ]
            ],
            "type": "histogram2d"
           }
          ],
          "histogram2dcontour": [
           {
            "colorbar": {
             "outlinewidth": 0,
             "ticks": ""
            },
            "colorscale": [
             [
              0,
              "#0d0887"
             ],
             [
              0.1111111111111111,
              "#46039f"
             ],
             [
              0.2222222222222222,
              "#7201a8"
             ],
             [
              0.3333333333333333,
              "#9c179e"
             ],
             [
              0.4444444444444444,
              "#bd3786"
             ],
             [
              0.5555555555555556,
              "#d8576b"
             ],
             [
              0.6666666666666666,
              "#ed7953"
             ],
             [
              0.7777777777777778,
              "#fb9f3a"
             ],
             [
              0.8888888888888888,
              "#fdca26"
             ],
             [
              1,
              "#f0f921"
             ]
            ],
            "type": "histogram2dcontour"
           }
          ],
          "mesh3d": [
           {
            "colorbar": {
             "outlinewidth": 0,
             "ticks": ""
            },
            "type": "mesh3d"
           }
          ],
          "parcoords": [
           {
            "line": {
             "colorbar": {
              "outlinewidth": 0,
              "ticks": ""
             }
            },
            "type": "parcoords"
           }
          ],
          "pie": [
           {
            "automargin": true,
            "type": "pie"
           }
          ],
          "scatter": [
           {
            "fillpattern": {
             "fillmode": "overlay",
             "size": 10,
             "solidity": 0.2
            },
            "type": "scatter"
           }
          ],
          "scatter3d": [
           {
            "line": {
             "colorbar": {
              "outlinewidth": 0,
              "ticks": ""
             }
            },
            "marker": {
             "colorbar": {
              "outlinewidth": 0,
              "ticks": ""
             }
            },
            "type": "scatter3d"
           }
          ],
          "scattercarpet": [
           {
            "marker": {
             "colorbar": {
              "outlinewidth": 0,
              "ticks": ""
             }
            },
            "type": "scattercarpet"
           }
          ],
          "scattergeo": [
           {
            "marker": {
             "colorbar": {
              "outlinewidth": 0,
              "ticks": ""
             }
            },
            "type": "scattergeo"
           }
          ],
          "scattergl": [
           {
            "marker": {
             "colorbar": {
              "outlinewidth": 0,
              "ticks": ""
             }
            },
            "type": "scattergl"
           }
          ],
          "scattermapbox": [
           {
            "marker": {
             "colorbar": {
              "outlinewidth": 0,
              "ticks": ""
             }
            },
            "type": "scattermapbox"
           }
          ],
          "scatterpolar": [
           {
            "marker": {
             "colorbar": {
              "outlinewidth": 0,
              "ticks": ""
             }
            },
            "type": "scatterpolar"
           }
          ],
          "scatterpolargl": [
           {
            "marker": {
             "colorbar": {
              "outlinewidth": 0,
              "ticks": ""
             }
            },
            "type": "scatterpolargl"
           }
          ],
          "scatterternary": [
           {
            "marker": {
             "colorbar": {
              "outlinewidth": 0,
              "ticks": ""
             }
            },
            "type": "scatterternary"
           }
          ],
          "surface": [
           {
            "colorbar": {
             "outlinewidth": 0,
             "ticks": ""
            },
            "colorscale": [
             [
              0,
              "#0d0887"
             ],
             [
              0.1111111111111111,
              "#46039f"
             ],
             [
              0.2222222222222222,
              "#7201a8"
             ],
             [
              0.3333333333333333,
              "#9c179e"
             ],
             [
              0.4444444444444444,
              "#bd3786"
             ],
             [
              0.5555555555555556,
              "#d8576b"
             ],
             [
              0.6666666666666666,
              "#ed7953"
             ],
             [
              0.7777777777777778,
              "#fb9f3a"
             ],
             [
              0.8888888888888888,
              "#fdca26"
             ],
             [
              1,
              "#f0f921"
             ]
            ],
            "type": "surface"
           }
          ],
          "table": [
           {
            "cells": {
             "fill": {
              "color": "#EBF0F8"
             },
             "line": {
              "color": "white"
             }
            },
            "header": {
             "fill": {
              "color": "#C8D4E3"
             },
             "line": {
              "color": "white"
             }
            },
            "type": "table"
           }
          ]
         },
         "layout": {
          "annotationdefaults": {
           "arrowcolor": "#2a3f5f",
           "arrowhead": 0,
           "arrowwidth": 1
          },
          "autotypenumbers": "strict",
          "coloraxis": {
           "colorbar": {
            "outlinewidth": 0,
            "ticks": ""
           }
          },
          "colorscale": {
           "diverging": [
            [
             0,
             "#8e0152"
            ],
            [
             0.1,
             "#c51b7d"
            ],
            [
             0.2,
             "#de77ae"
            ],
            [
             0.3,
             "#f1b6da"
            ],
            [
             0.4,
             "#fde0ef"
            ],
            [
             0.5,
             "#f7f7f7"
            ],
            [
             0.6,
             "#e6f5d0"
            ],
            [
             0.7,
             "#b8e186"
            ],
            [
             0.8,
             "#7fbc41"
            ],
            [
             0.9,
             "#4d9221"
            ],
            [
             1,
             "#276419"
            ]
           ],
           "sequential": [
            [
             0,
             "#0d0887"
            ],
            [
             0.1111111111111111,
             "#46039f"
            ],
            [
             0.2222222222222222,
             "#7201a8"
            ],
            [
             0.3333333333333333,
             "#9c179e"
            ],
            [
             0.4444444444444444,
             "#bd3786"
            ],
            [
             0.5555555555555556,
             "#d8576b"
            ],
            [
             0.6666666666666666,
             "#ed7953"
            ],
            [
             0.7777777777777778,
             "#fb9f3a"
            ],
            [
             0.8888888888888888,
             "#fdca26"
            ],
            [
             1,
             "#f0f921"
            ]
           ],
           "sequentialminus": [
            [
             0,
             "#0d0887"
            ],
            [
             0.1111111111111111,
             "#46039f"
            ],
            [
             0.2222222222222222,
             "#7201a8"
            ],
            [
             0.3333333333333333,
             "#9c179e"
            ],
            [
             0.4444444444444444,
             "#bd3786"
            ],
            [
             0.5555555555555556,
             "#d8576b"
            ],
            [
             0.6666666666666666,
             "#ed7953"
            ],
            [
             0.7777777777777778,
             "#fb9f3a"
            ],
            [
             0.8888888888888888,
             "#fdca26"
            ],
            [
             1,
             "#f0f921"
            ]
           ]
          },
          "colorway": [
           "#636efa",
           "#EF553B",
           "#00cc96",
           "#ab63fa",
           "#FFA15A",
           "#19d3f3",
           "#FF6692",
           "#B6E880",
           "#FF97FF",
           "#FECB52"
          ],
          "font": {
           "color": "#2a3f5f"
          },
          "geo": {
           "bgcolor": "white",
           "lakecolor": "white",
           "landcolor": "#E5ECF6",
           "showlakes": true,
           "showland": true,
           "subunitcolor": "white"
          },
          "hoverlabel": {
           "align": "left"
          },
          "hovermode": "closest",
          "mapbox": {
           "style": "light"
          },
          "paper_bgcolor": "white",
          "plot_bgcolor": "#E5ECF6",
          "polar": {
           "angularaxis": {
            "gridcolor": "white",
            "linecolor": "white",
            "ticks": ""
           },
           "bgcolor": "#E5ECF6",
           "radialaxis": {
            "gridcolor": "white",
            "linecolor": "white",
            "ticks": ""
           }
          },
          "scene": {
           "xaxis": {
            "backgroundcolor": "#E5ECF6",
            "gridcolor": "white",
            "gridwidth": 2,
            "linecolor": "white",
            "showbackground": true,
            "ticks": "",
            "zerolinecolor": "white"
           },
           "yaxis": {
            "backgroundcolor": "#E5ECF6",
            "gridcolor": "white",
            "gridwidth": 2,
            "linecolor": "white",
            "showbackground": true,
            "ticks": "",
            "zerolinecolor": "white"
           },
           "zaxis": {
            "backgroundcolor": "#E5ECF6",
            "gridcolor": "white",
            "gridwidth": 2,
            "linecolor": "white",
            "showbackground": true,
            "ticks": "",
            "zerolinecolor": "white"
           }
          },
          "shapedefaults": {
           "line": {
            "color": "#2a3f5f"
           }
          },
          "ternary": {
           "aaxis": {
            "gridcolor": "white",
            "linecolor": "white",
            "ticks": ""
           },
           "baxis": {
            "gridcolor": "white",
            "linecolor": "white",
            "ticks": ""
           },
           "bgcolor": "#E5ECF6",
           "caxis": {
            "gridcolor": "white",
            "linecolor": "white",
            "ticks": ""
           }
          },
          "title": {
           "x": 0.05
          },
          "xaxis": {
           "automargin": true,
           "gridcolor": "white",
           "linecolor": "white",
           "ticks": "",
           "title": {
            "standoff": 15
           },
           "zerolinecolor": "white",
           "zerolinewidth": 2
          },
          "yaxis": {
           "automargin": true,
           "gridcolor": "white",
           "linecolor": "white",
           "ticks": "",
           "title": {
            "standoff": 15
           },
           "zerolinecolor": "white",
           "zerolinewidth": 2
          }
         }
        },
        "title": {
         "text": "크래프톤 방사형 차트"
        }
       }
      }
     },
     "metadata": {},
     "output_type": "display_data"
    }
   ],
   "source": [
    "import pandas as pd\n",
    "import plotly.graph_objects as go\n",
    "import numpy as np\n",
    "\n",
    "# CSV 파일 읽기\n",
    "file_path = \"scored_company_data_sorted.csv\"\n",
    "data = pd.read_csv(file_path)\n",
    "\n",
    "def plot_radar_chart(company_name):\n",
    "    # 입력받은 기업명 데이터 필터링\n",
    "    company_data = data[data['기업명'] == company_name]\n",
    "    \n",
    "    if company_data.empty:\n",
    "        print(f\"기업명 '{company_name}'에 해당하는 데이터가 없습니다.\")\n",
    "        return\n",
    "    \n",
    "    # 항목과 점수 및 최근값 가져오기\n",
    "    categories = company_data['항목'].tolist()\n",
    "    values = company_data['점수'].tolist()\n",
    "    recent_values = company_data['최근값'].tolist()  # 최근값 추가\n",
    "    \n",
    "    # 방사형 차트를 위한 값 준비\n",
    "    num_vars = len(categories)\n",
    "    \n",
    "    # 각도 계산\n",
    "    angles = np.linspace(0, 2 * np.pi, num_vars, endpoint=False).tolist()\n",
    "    values += values[:1]  # 차트를 닫기 위해 첫 번째 값을 추가\n",
    "    recent_values += recent_values[:1]  # 최근값도 동일하게 추가\n",
    "    angles += angles[:1]  # 각도도 동일하게 닫기\n",
    "    \n",
    "    # Plotly를 사용하여 방사형 차트 생성 (면적 없이 선만 표시)\n",
    "    fig = go.Figure(data=go.Scatterpolar(\n",
    "        r=values,\n",
    "        theta=categories,\n",
    "        mode='markers+lines',  # 면적 없이 선만 그리기 위해 'lines' 사용\n",
    "        marker=dict(size=8, color='blue'),\n",
    "        text=[f'{categories[i]}: 최근값 = {recent_values[i]}' for i in range(num_vars)],\n",
    "        hoverinfo='text'\n",
    "    ))\n",
    "\n",
    "    # 레이아웃 설정\n",
    "    fig.update_layout(\n",
    "        title=f\"{company_name} 방사형 차트\",\n",
    "        polar=dict(\n",
    "            radialaxis=dict(\n",
    "                visible=True,\n",
    "                range=[0, 10]  # 최대 점수 10으로 설정\n",
    "            ),\n",
    "        ),\n",
    "        showlegend=False\n",
    "    )\n",
    "    \n",
    "    # 그래프 표시\n",
    "    fig.show()\n",
    "\n",
    "# 예제 실행\n",
    "input_company = input(\"방사형 차트를 보고 싶은 기업명을 입력하세요: \")\n",
    "plot_radar_chart(input_company)\n"
   ]
  },
  {
   "cell_type": "code",
   "execution_count": 79,
   "metadata": {},
   "outputs": [
    {
     "data": {
      "application/vnd.plotly.v1+json": {
       "config": {
        "plotlyServerURL": "https://plot.ly"
       },
       "data": [
        {
         "hoverinfo": "text",
         "line": {
          "color": "rgba(0, 0, 255, 0.4)",
          "width": 2
         },
         "marker": {
          "size": 6
         },
         "mode": "lines+markers",
         "name": "LX세미콘",
         "r": [
          8,
          9,
          8,
          7,
          9,
          9,
          7,
          6,
          10,
          10,
          10,
          10,
          8
         ],
         "text": [
          "EV/EBITDA: 8.91",
          "PBR: 0.99",
          "PER: 13.95",
          "ROE: 14.4",
          "당기순이익: 1097.0",
          "매출액: 13631.0",
          "부채비율: 33.5",
          "시가총액: 14150.0",
          "영업활동현금흐름: 1986.0",
          "유보율: 12902.2",
          "잉여현금흐름: 709.0",
          "총자산회전율: 1.4",
          "EV/EBITDA: 8.91"
         ],
         "theta": [
          "EV/EBITDA",
          "PBR",
          "PER",
          "ROE",
          "당기순이익",
          "매출액",
          "부채비율",
          "시가총액",
          "영업활동현금흐름",
          "유보율",
          "잉여현금흐름",
          "총자산회전율",
          "EV/EBITDA"
         ],
         "type": "scatterpolar"
        },
        {
         "hoverinfo": "text",
         "line": {
          "color": "rgba(255, 0, 0, 0.4)",
          "width": 2
         },
         "marker": {
          "size": 6
         },
         "mode": "lines+markers",
         "name": "average",
         "r": [
          3,
          3,
          1,
          6,
          10,
          10,
          4,
          9,
          10,
          9,
          1,
          6,
          3
         ],
         "text": [
          "EV/EBITDA: 32.1",
          "PBR: 3.4",
          "PER: 109.7",
          "ROE: 10.4",
          "당기순이익: 3361.0",
          "매출액: 31412.2",
          "부채비율: 68.0",
          "시가총액: 30089.7",
          "영업활동현금흐름: 5803.4",
          "유보율: 8657.2",
          "잉여현금흐름: -2761.8",
          "총자산회전율: 0.7",
          "EV/EBITDA: 32.1"
         ],
         "theta": [
          "EV/EBITDA",
          "PBR",
          "PER",
          "ROE",
          "당기순이익",
          "매출액",
          "부채비율",
          "시가총액",
          "영업활동현금흐름",
          "유보율",
          "잉여현금흐름",
          "총자산회전율",
          "EV/EBITDA"
         ],
         "type": "scatterpolar"
        }
       ],
       "layout": {
        "polar": {
         "radialaxis": {
          "range": [
           0,
           10
          ],
          "visible": true
         }
        },
        "showlegend": true,
        "template": {
         "data": {
          "bar": [
           {
            "error_x": {
             "color": "#2a3f5f"
            },
            "error_y": {
             "color": "#2a3f5f"
            },
            "marker": {
             "line": {
              "color": "#E5ECF6",
              "width": 0.5
             },
             "pattern": {
              "fillmode": "overlay",
              "size": 10,
              "solidity": 0.2
             }
            },
            "type": "bar"
           }
          ],
          "barpolar": [
           {
            "marker": {
             "line": {
              "color": "#E5ECF6",
              "width": 0.5
             },
             "pattern": {
              "fillmode": "overlay",
              "size": 10,
              "solidity": 0.2
             }
            },
            "type": "barpolar"
           }
          ],
          "carpet": [
           {
            "aaxis": {
             "endlinecolor": "#2a3f5f",
             "gridcolor": "white",
             "linecolor": "white",
             "minorgridcolor": "white",
             "startlinecolor": "#2a3f5f"
            },
            "baxis": {
             "endlinecolor": "#2a3f5f",
             "gridcolor": "white",
             "linecolor": "white",
             "minorgridcolor": "white",
             "startlinecolor": "#2a3f5f"
            },
            "type": "carpet"
           }
          ],
          "choropleth": [
           {
            "colorbar": {
             "outlinewidth": 0,
             "ticks": ""
            },
            "type": "choropleth"
           }
          ],
          "contour": [
           {
            "colorbar": {
             "outlinewidth": 0,
             "ticks": ""
            },
            "colorscale": [
             [
              0,
              "#0d0887"
             ],
             [
              0.1111111111111111,
              "#46039f"
             ],
             [
              0.2222222222222222,
              "#7201a8"
             ],
             [
              0.3333333333333333,
              "#9c179e"
             ],
             [
              0.4444444444444444,
              "#bd3786"
             ],
             [
              0.5555555555555556,
              "#d8576b"
             ],
             [
              0.6666666666666666,
              "#ed7953"
             ],
             [
              0.7777777777777778,
              "#fb9f3a"
             ],
             [
              0.8888888888888888,
              "#fdca26"
             ],
             [
              1,
              "#f0f921"
             ]
            ],
            "type": "contour"
           }
          ],
          "contourcarpet": [
           {
            "colorbar": {
             "outlinewidth": 0,
             "ticks": ""
            },
            "type": "contourcarpet"
           }
          ],
          "heatmap": [
           {
            "colorbar": {
             "outlinewidth": 0,
             "ticks": ""
            },
            "colorscale": [
             [
              0,
              "#0d0887"
             ],
             [
              0.1111111111111111,
              "#46039f"
             ],
             [
              0.2222222222222222,
              "#7201a8"
             ],
             [
              0.3333333333333333,
              "#9c179e"
             ],
             [
              0.4444444444444444,
              "#bd3786"
             ],
             [
              0.5555555555555556,
              "#d8576b"
             ],
             [
              0.6666666666666666,
              "#ed7953"
             ],
             [
              0.7777777777777778,
              "#fb9f3a"
             ],
             [
              0.8888888888888888,
              "#fdca26"
             ],
             [
              1,
              "#f0f921"
             ]
            ],
            "type": "heatmap"
           }
          ],
          "heatmapgl": [
           {
            "colorbar": {
             "outlinewidth": 0,
             "ticks": ""
            },
            "colorscale": [
             [
              0,
              "#0d0887"
             ],
             [
              0.1111111111111111,
              "#46039f"
             ],
             [
              0.2222222222222222,
              "#7201a8"
             ],
             [
              0.3333333333333333,
              "#9c179e"
             ],
             [
              0.4444444444444444,
              "#bd3786"
             ],
             [
              0.5555555555555556,
              "#d8576b"
             ],
             [
              0.6666666666666666,
              "#ed7953"
             ],
             [
              0.7777777777777778,
              "#fb9f3a"
             ],
             [
              0.8888888888888888,
              "#fdca26"
             ],
             [
              1,
              "#f0f921"
             ]
            ],
            "type": "heatmapgl"
           }
          ],
          "histogram": [
           {
            "marker": {
             "pattern": {
              "fillmode": "overlay",
              "size": 10,
              "solidity": 0.2
             }
            },
            "type": "histogram"
           }
          ],
          "histogram2d": [
           {
            "colorbar": {
             "outlinewidth": 0,
             "ticks": ""
            },
            "colorscale": [
             [
              0,
              "#0d0887"
             ],
             [
              0.1111111111111111,
              "#46039f"
             ],
             [
              0.2222222222222222,
              "#7201a8"
             ],
             [
              0.3333333333333333,
              "#9c179e"
             ],
             [
              0.4444444444444444,
              "#bd3786"
             ],
             [
              0.5555555555555556,
              "#d8576b"
             ],
             [
              0.6666666666666666,
              "#ed7953"
             ],
             [
              0.7777777777777778,
              "#fb9f3a"
             ],
             [
              0.8888888888888888,
              "#fdca26"
             ],
             [
              1,
              "#f0f921"
             ]
            ],
            "type": "histogram2d"
           }
          ],
          "histogram2dcontour": [
           {
            "colorbar": {
             "outlinewidth": 0,
             "ticks": ""
            },
            "colorscale": [
             [
              0,
              "#0d0887"
             ],
             [
              0.1111111111111111,
              "#46039f"
             ],
             [
              0.2222222222222222,
              "#7201a8"
             ],
             [
              0.3333333333333333,
              "#9c179e"
             ],
             [
              0.4444444444444444,
              "#bd3786"
             ],
             [
              0.5555555555555556,
              "#d8576b"
             ],
             [
              0.6666666666666666,
              "#ed7953"
             ],
             [
              0.7777777777777778,
              "#fb9f3a"
             ],
             [
              0.8888888888888888,
              "#fdca26"
             ],
             [
              1,
              "#f0f921"
             ]
            ],
            "type": "histogram2dcontour"
           }
          ],
          "mesh3d": [
           {
            "colorbar": {
             "outlinewidth": 0,
             "ticks": ""
            },
            "type": "mesh3d"
           }
          ],
          "parcoords": [
           {
            "line": {
             "colorbar": {
              "outlinewidth": 0,
              "ticks": ""
             }
            },
            "type": "parcoords"
           }
          ],
          "pie": [
           {
            "automargin": true,
            "type": "pie"
           }
          ],
          "scatter": [
           {
            "fillpattern": {
             "fillmode": "overlay",
             "size": 10,
             "solidity": 0.2
            },
            "type": "scatter"
           }
          ],
          "scatter3d": [
           {
            "line": {
             "colorbar": {
              "outlinewidth": 0,
              "ticks": ""
             }
            },
            "marker": {
             "colorbar": {
              "outlinewidth": 0,
              "ticks": ""
             }
            },
            "type": "scatter3d"
           }
          ],
          "scattercarpet": [
           {
            "marker": {
             "colorbar": {
              "outlinewidth": 0,
              "ticks": ""
             }
            },
            "type": "scattercarpet"
           }
          ],
          "scattergeo": [
           {
            "marker": {
             "colorbar": {
              "outlinewidth": 0,
              "ticks": ""
             }
            },
            "type": "scattergeo"
           }
          ],
          "scattergl": [
           {
            "marker": {
             "colorbar": {
              "outlinewidth": 0,
              "ticks": ""
             }
            },
            "type": "scattergl"
           }
          ],
          "scattermapbox": [
           {
            "marker": {
             "colorbar": {
              "outlinewidth": 0,
              "ticks": ""
             }
            },
            "type": "scattermapbox"
           }
          ],
          "scatterpolar": [
           {
            "marker": {
             "colorbar": {
              "outlinewidth": 0,
              "ticks": ""
             }
            },
            "type": "scatterpolar"
           }
          ],
          "scatterpolargl": [
           {
            "marker": {
             "colorbar": {
              "outlinewidth": 0,
              "ticks": ""
             }
            },
            "type": "scatterpolargl"
           }
          ],
          "scatterternary": [
           {
            "marker": {
             "colorbar": {
              "outlinewidth": 0,
              "ticks": ""
             }
            },
            "type": "scatterternary"
           }
          ],
          "surface": [
           {
            "colorbar": {
             "outlinewidth": 0,
             "ticks": ""
            },
            "colorscale": [
             [
              0,
              "#0d0887"
             ],
             [
              0.1111111111111111,
              "#46039f"
             ],
             [
              0.2222222222222222,
              "#7201a8"
             ],
             [
              0.3333333333333333,
              "#9c179e"
             ],
             [
              0.4444444444444444,
              "#bd3786"
             ],
             [
              0.5555555555555556,
              "#d8576b"
             ],
             [
              0.6666666666666666,
              "#ed7953"
             ],
             [
              0.7777777777777778,
              "#fb9f3a"
             ],
             [
              0.8888888888888888,
              "#fdca26"
             ],
             [
              1,
              "#f0f921"
             ]
            ],
            "type": "surface"
           }
          ],
          "table": [
           {
            "cells": {
             "fill": {
              "color": "#EBF0F8"
             },
             "line": {
              "color": "white"
             }
            },
            "header": {
             "fill": {
              "color": "#C8D4E3"
             },
             "line": {
              "color": "white"
             }
            },
            "type": "table"
           }
          ]
         },
         "layout": {
          "annotationdefaults": {
           "arrowcolor": "#2a3f5f",
           "arrowhead": 0,
           "arrowwidth": 1
          },
          "autotypenumbers": "strict",
          "coloraxis": {
           "colorbar": {
            "outlinewidth": 0,
            "ticks": ""
           }
          },
          "colorscale": {
           "diverging": [
            [
             0,
             "#8e0152"
            ],
            [
             0.1,
             "#c51b7d"
            ],
            [
             0.2,
             "#de77ae"
            ],
            [
             0.3,
             "#f1b6da"
            ],
            [
             0.4,
             "#fde0ef"
            ],
            [
             0.5,
             "#f7f7f7"
            ],
            [
             0.6,
             "#e6f5d0"
            ],
            [
             0.7,
             "#b8e186"
            ],
            [
             0.8,
             "#7fbc41"
            ],
            [
             0.9,
             "#4d9221"
            ],
            [
             1,
             "#276419"
            ]
           ],
           "sequential": [
            [
             0,
             "#0d0887"
            ],
            [
             0.1111111111111111,
             "#46039f"
            ],
            [
             0.2222222222222222,
             "#7201a8"
            ],
            [
             0.3333333333333333,
             "#9c179e"
            ],
            [
             0.4444444444444444,
             "#bd3786"
            ],
            [
             0.5555555555555556,
             "#d8576b"
            ],
            [
             0.6666666666666666,
             "#ed7953"
            ],
            [
             0.7777777777777778,
             "#fb9f3a"
            ],
            [
             0.8888888888888888,
             "#fdca26"
            ],
            [
             1,
             "#f0f921"
            ]
           ],
           "sequentialminus": [
            [
             0,
             "#0d0887"
            ],
            [
             0.1111111111111111,
             "#46039f"
            ],
            [
             0.2222222222222222,
             "#7201a8"
            ],
            [
             0.3333333333333333,
             "#9c179e"
            ],
            [
             0.4444444444444444,
             "#bd3786"
            ],
            [
             0.5555555555555556,
             "#d8576b"
            ],
            [
             0.6666666666666666,
             "#ed7953"
            ],
            [
             0.7777777777777778,
             "#fb9f3a"
            ],
            [
             0.8888888888888888,
             "#fdca26"
            ],
            [
             1,
             "#f0f921"
            ]
           ]
          },
          "colorway": [
           "#636efa",
           "#EF553B",
           "#00cc96",
           "#ab63fa",
           "#FFA15A",
           "#19d3f3",
           "#FF6692",
           "#B6E880",
           "#FF97FF",
           "#FECB52"
          ],
          "font": {
           "color": "#2a3f5f"
          },
          "geo": {
           "bgcolor": "white",
           "lakecolor": "white",
           "landcolor": "#E5ECF6",
           "showlakes": true,
           "showland": true,
           "subunitcolor": "white"
          },
          "hoverlabel": {
           "align": "left"
          },
          "hovermode": "closest",
          "mapbox": {
           "style": "light"
          },
          "paper_bgcolor": "white",
          "plot_bgcolor": "#E5ECF6",
          "polar": {
           "angularaxis": {
            "gridcolor": "white",
            "linecolor": "white",
            "ticks": ""
           },
           "bgcolor": "#E5ECF6",
           "radialaxis": {
            "gridcolor": "white",
            "linecolor": "white",
            "ticks": ""
           }
          },
          "scene": {
           "xaxis": {
            "backgroundcolor": "#E5ECF6",
            "gridcolor": "white",
            "gridwidth": 2,
            "linecolor": "white",
            "showbackground": true,
            "ticks": "",
            "zerolinecolor": "white"
           },
           "yaxis": {
            "backgroundcolor": "#E5ECF6",
            "gridcolor": "white",
            "gridwidth": 2,
            "linecolor": "white",
            "showbackground": true,
            "ticks": "",
            "zerolinecolor": "white"
           },
           "zaxis": {
            "backgroundcolor": "#E5ECF6",
            "gridcolor": "white",
            "gridwidth": 2,
            "linecolor": "white",
            "showbackground": true,
            "ticks": "",
            "zerolinecolor": "white"
           }
          },
          "shapedefaults": {
           "line": {
            "color": "#2a3f5f"
           }
          },
          "ternary": {
           "aaxis": {
            "gridcolor": "white",
            "linecolor": "white",
            "ticks": ""
           },
           "baxis": {
            "gridcolor": "white",
            "linecolor": "white",
            "ticks": ""
           },
           "bgcolor": "#E5ECF6",
           "caxis": {
            "gridcolor": "white",
            "linecolor": "white",
            "ticks": ""
           }
          },
          "title": {
           "x": 0.05
          },
          "xaxis": {
           "automargin": true,
           "gridcolor": "white",
           "linecolor": "white",
           "ticks": "",
           "title": {
            "standoff": 15
           },
           "zerolinecolor": "white",
           "zerolinewidth": 2
          },
          "yaxis": {
           "automargin": true,
           "gridcolor": "white",
           "linecolor": "white",
           "ticks": "",
           "title": {
            "standoff": 15
           },
           "zerolinecolor": "white",
           "zerolinewidth": 2
          }
         }
        },
        "title": {
         "text": "제일 좋은 기업과 Average 기업 방사형 차트"
        }
       }
      }
     },
     "metadata": {},
     "output_type": "display_data"
    }
   ],
   "source": [
    "import pandas as pd\n",
    "import plotly.graph_objects as go\n",
    "\n",
    "# CSV 파일 읽기\n",
    "file_path = \"scored_company_data_sorted.csv\"\n",
    "data = pd.read_csv(file_path)\n",
    "\n",
    "# 점수 컬럼이 없으면 처리\n",
    "if \"점수\" not in data.columns:\n",
    "    print(\"점수 컬럼이 데이터에 없습니다. 점수를 먼저 계산해주세요.\")\n",
    "else:\n",
    "    # 제일 좋은 기업 (점수 합계가 가장 높은 기업 1개)\n",
    "    best_company = data.groupby('기업명')['점수'].sum().idxmax()\n",
    "\n",
    "    # \"average\" 기업 데이터 필터링\n",
    "    average_data = data[data['기업명'] == \"average\"]\n",
    "\n",
    "    # 색상 리스트 (RGBA 값을 사용하여 투명도 설정)\n",
    "    colors = [\n",
    "        'rgba(0, 0, 255, 0.4)',  # 제일 좋은 기업 파란색\n",
    "        'rgba(255, 0, 0, 0.4)'   # \"average\" 기업 빨간색\n",
    "    ]\n",
    "\n",
    "    # 방사형 차트 그리기\n",
    "    def plot_radar_chart():\n",
    "        # Plotly를 사용하여 빈 차트 생성\n",
    "        fig = go.Figure()\n",
    "\n",
    "        # 제일 좋은 기업에 대해 그래프 추가\n",
    "        best_company_data = data[data['기업명'] == best_company]\n",
    "        if not best_company_data.empty:\n",
    "            categories = best_company_data['항목'].tolist()\n",
    "            values = best_company_data['점수'].tolist()\n",
    "            recent_values = best_company_data['최근값'].tolist()\n",
    "\n",
    "            # 시작점과 끝점을 이어주기 위해 첫 번째 값을 마지막에 추가\n",
    "            categories += categories[:1]\n",
    "            values += values[:1]\n",
    "            recent_values += recent_values[:1]\n",
    "\n",
    "            # 호버 텍스트 생성\n",
    "            hover_text = [f\"{categories[i]}: {recent_values[i]}\" for i in range(len(categories))]\n",
    "\n",
    "            # 제일 좋은 기업 차트 추가\n",
    "            fig.add_trace(go.Scatterpolar(\n",
    "                r=values,\n",
    "                theta=categories,\n",
    "                mode='lines+markers',  # 선과 점 표시\n",
    "                line=dict(color=colors[0], width=2),  # 선 색상과 두께 설정\n",
    "                marker=dict(size=6),  # 점 크기 설정\n",
    "                text=hover_text,  # 호버 텍스트 설정\n",
    "                hoverinfo=\"text\",  # 텍스트를 호버 정보로 표시\n",
    "                name=best_company,\n",
    "            ))\n",
    "\n",
    "        # \"average\" 기업에 대해 그래프 추가\n",
    "        if not average_data.empty:\n",
    "            categories = average_data['항목'].tolist()\n",
    "            values = average_data['점수'].tolist()\n",
    "            recent_values = average_data['최근값'].tolist()\n",
    "\n",
    "            # 시작점과 끝점을 이어주기 위해 첫 번째 값을 마지막에 추가\n",
    "            categories += categories[:1]\n",
    "            values += values[:1]\n",
    "            recent_values += recent_values[:1]\n",
    "\n",
    "            # 호버 텍스트 생성\n",
    "            hover_text = [f\"{categories[i]}: {recent_values[i]}\" for i in range(len(categories))]\n",
    "\n",
    "            # \"average\" 기업 차트 추가\n",
    "            fig.add_trace(go.Scatterpolar(\n",
    "                r=values,\n",
    "                theta=categories,\n",
    "                mode='lines+markers',  # 선과 점 표시\n",
    "                line=dict(color=colors[1], width=2),  # 선 색상과 두께 설정\n",
    "                marker=dict(size=6),  # 점 크기 설정\n",
    "                text=hover_text,  # 호버 텍스트 설정\n",
    "                hoverinfo=\"text\",  # 텍스트를 호버 정보로 표시\n",
    "                name=\"average\",\n",
    "            ))\n",
    "\n",
    "        # 레이아웃 설정\n",
    "        fig.update_layout(\n",
    "            title=\"제일 좋은 기업과 Average 기업 방사형 차트\",\n",
    "            polar=dict(\n",
    "                radialaxis=dict(\n",
    "                    visible=True,\n",
    "                    range=[0, 10]  # 최대 점수 10으로 설정\n",
    "                ),\n",
    "            ),\n",
    "            showlegend=True,  # 범례 표시\n",
    "        )\n",
    "\n",
    "        # 그래프 표시\n",
    "        fig.show()\n",
    "\n",
    "    # 방사형 차트 그리기\n",
    "    plot_radar_chart()\n"
   ]
  },
  {
   "cell_type": "code",
   "execution_count": null,
   "metadata": {},
   "outputs": [],
   "source": []
  }
 ],
 "metadata": {
  "kernelspec": {
   "display_name": "Python 3",
   "language": "python",
   "name": "python3"
  },
  "language_info": {
   "codemirror_mode": {
    "name": "ipython",
    "version": 3
   },
   "file_extension": ".py",
   "mimetype": "text/x-python",
   "name": "python",
   "nbconvert_exporter": "python",
   "pygments_lexer": "ipython3",
   "version": "3.12.2"
  }
 },
 "nbformat": 4,
 "nbformat_minor": 2
}
